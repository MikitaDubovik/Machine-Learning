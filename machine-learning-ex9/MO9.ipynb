{
 "cells": [
  {
   "cell_type": "markdown",
   "metadata": {
    "collapsed": true,
    "pycharm": {
     "name": "#%% md\n"
    }
   },
   "outputs": [],
   "source": [
    "#### 1. Загрузите данные ex9_movies.mat из файла."
   ]
  },
  {
   "cell_type": "code",
   "execution_count": 21,
   "metadata": {},
   "outputs": [],
   "source": [
    "import scipy.io as scio\n",
    "import scipy.optimize as op\n",
    "import numpy as np\n",
    "import matplotlib.pyplot as plt\n",
    "from surprise import BaselineOnly, Dataset, Reader, Trainset, KNNBaseline, SVD, accuracy\n",
    "from surprise.model_selection import cross_validate, GridSearchCV"
   ]
  },
  {
   "cell_type": "code",
   "execution_count": 22,
   "metadata": {},
   "outputs": [],
   "source": [
    "movies = scio.loadmat('C:/Users/Mikita/Desktop/1_Sem/MO/machine-learning-ex9/ex9_movies.mat')\n",
    "y, r = movies['Y'], movies['R']"
   ]
  },
  {
   "cell_type": "markdown",
   "metadata": {
    "collapsed": false,
    "pycharm": {
     "name": "#%% md\n"
    }
   },
   "outputs": [],
   "source": [
    "#### 2. Выберите число признаков фильмов (n) для реализации алгоритма коллаборативной фильтрации."
   ]
  },
  {
   "cell_type": "code",
   "execution_count": 23,
   "metadata": {},
   "outputs": [],
   "source": [
    "num_users = 4\n",
    "num_movies = 5\n",
    "num_features = 10"
   ]
  },
  {
   "cell_type": "markdown",
   "metadata": {
    "collapsed": false,
    "pycharm": {
     "name": "#%% md\n"
    }
   },
   "outputs": [],
   "source": [
    "#### 3. Реализуйте функцию стоимости для алгоритма.\n",
    "#### 5. При реализации используйте векторизацию для ускорения процесса обучения.\n",
    "#### 6. Добавьте L2-регуляризацию в модель."
   ]
  },
  {
   "cell_type": "code",
   "execution_count": 24,
   "metadata": {},
   "outputs": [],
   "source": [
    "def cofiCostFunc(X, Theta, y, r, num_users, num_movies, num_features, l):\n",
    "    J = 1 / 2 * np.sum(r * (X.dot(Theta.T) - y)**2) + l / \\\n",
    "        2 * (np.sum(Theta**2) + np.sum(X**2))\n",
    "    return J"
   ]
  },
  {
   "cell_type": "markdown",
   "metadata": {
    "collapsed": false,
    "pycharm": {
     "name": "#%% md\n"
    }
   },
   "outputs": [],
   "source": [
    "#### 4. Реализуйте функцию вычисления градиентов."
   ]
  },
  {
   "cell_type": "code",
   "execution_count": 25,
   "metadata": {},
   "outputs": [],
   "source": [
    "def cofiGradientFunc(X, Theta, y, r, num_users, num_movies, num_features, l):\n",
    "    X_grad = (r * (X.dot(Theta.T) - y)).dot(Theta) + l * X\n",
    "    Theta_grad = (r * (X.dot(Theta.T) - y)).T.dot(X) + l * Theta\n",
    "    return X_grad, Theta_grad"
   ]
  },
  {
   "cell_type": "markdown",
   "metadata": {
    "collapsed": false,
    "pycharm": {
     "name": "#%% md\n"
    }
   },
   "outputs": [],
   "source": [
    "#### 7. Добавьте несколько оценок фильмов от себя. Файл movie_ids.txt содержит индексы каждого из фильмов."
   ]
  },
  {
   "cell_type": "code",
   "execution_count": 26,
   "metadata": {},
   "outputs": [],
   "source": [
    "def loadMovieList():\n",
    "    f = open('C:/Users/Mikita/Desktop/1_Sem/MO/machine-learning-ex9/movie_ids.txt').readlines()\n",
    "    n = 1682\n",
    "    list = [0]*1682\n",
    "    i = 0\n",
    "    for line in f:\n",
    "        if (i+1)/10 < 1:\n",
    "            list[i] = line[2:]\n",
    "        elif (i+1)/100 < 1:\n",
    "            list[i] = line[3:]\n",
    "        elif (i+1)/1000 < 1:\n",
    "            list[i] = line[4:]\n",
    "        else:\n",
    "            list[i] = line[5:]\n",
    "        i += 1\n",
    "    return list"
   ]
  },
  {
   "cell_type": "code",
   "execution_count": 27,
   "metadata": {},
   "outputs": [
    {
     "name": "stdout",
     "output_type": "stream",
     "text": "Rated 4 for Apollo 13 (1995)\nRated 4 for Star Wars (1977)\nRated 5 for Ace Ventura: Pet Detective (1994)\nRated 5 for Blade Runner (1982)\nRated 3 for Godfather, The (1972)\nRated 3 for Wizard of Oz, The (1939)\nRated 5 for Naked Gun 33 1/3: The Final Insult (1994)\nRated 4 for Mortal Kombat (1995)\nRated 4 for First Knight (1995)\nRated 5 for Stalker (1979)\nRated 3 for Faust (1994)\n"
    }
   ],
   "source": [
    "movieList = loadMovieList()\n",
    "my_ratings = np.zeros([1682,1])\n",
    "\n",
    "my_ratings[540] = 4\n",
    "my_ratings[383] = 5\n",
    "my_ratings[27] = 4\n",
    "my_ratings[66]= 5\n",
    "my_ratings[49] = 4\n",
    "my_ratings[88] = 5\n",
    "my_ratings[126] = 3\n",
    "my_ratings[131] = 3\n",
    "my_ratings[1366] = 3\n",
    "my_ratings[1158] = 5\n",
    "my_ratings[719] = 4\n",
    "\n",
    "for i in range(0,len(my_ratings)):\n",
    "    if my_ratings[i] > 0:\n",
    "        print('Rated %d for %s'%(my_ratings[i],movieList[i]),end=\"\")\n",
    "        "
   ]
  },
  {
   "cell_type": "markdown",
   "metadata": {
    "collapsed": false,
    "pycharm": {
     "name": "#%% md\n"
    }
   },
   "outputs": [],
   "source": [
    "#### 8. Обучите модель с помощью градиентного спуска или других методов оптимизации."
   ]
  },
  {
   "cell_type": "code",
   "execution_count": 28,
   "metadata": {},
   "outputs": [],
   "source": [
    "def normalizeRatings(Y, R):\n",
    "    m, n = np.shape(Y)\n",
    "    Ymean = np.zeros([m, 1])\n",
    "    Ynorm = np.zeros(np.shape(Y))\n",
    "    for i in range(0,m):\n",
    "        idx = np.where(R[i,:] == 1)\n",
    "        Ymean[i] = np.mean(Y[i,idx])\n",
    "        Ynorm[i,idx] = Y[i,idx] - Ymean[i]\n",
    "\n",
    "    return Ynorm,Ymean"
   ]
  },
  {
   "cell_type": "code",
   "execution_count": 29,
   "metadata": {},
   "outputs": [],
   "source": [
    "def cofiCostFunc(params, Y, R, num_users, num_movies,num_features, xlambda):\n",
    "    X = params[:num_movies*num_features].reshape(num_movies, num_features)\n",
    "    Theta = params[num_movies*num_features:].reshape(num_users, num_features)\n",
    "\n",
    "    # zero initial\n",
    "    J = 0\n",
    "    X_grad = np.zeros(np.shape(X))\n",
    "    Theta_grad = np.zeros(np.shape(Theta))\n",
    "\n",
    "    # start\n",
    "    J = np.sum(R*((np.dot(X,Theta.T)-Y)**2))/2\n",
    "    X_grad = np.dot((R*(np.dot(X,Theta.T)-Y)),Theta)\n",
    "    Theta_grad = np.dot((R*(np.dot(X,Theta.T)-Y)).T,X)\n",
    "\n",
    "    grad = np.r_[(X_grad.ravel().reshape(num_movies*num_features,1),Theta_grad.ravel().reshape(num_users*num_features,1))]\n",
    "    return J,grad"
   ]
  },
  {
   "cell_type": "code",
   "execution_count": 30,
   "metadata": {},
   "outputs": [],
   "source": [
    "ex8_movies = scio.loadmat('C:/Users/Mikita/Desktop/1_Sem/MO/machine-learning-ex9/ex9_movies.mat')\n",
    "\n",
    "#  Y is a 1682x943 matrix, containing ratings (1-5) of 1682 movies by 943 users\n",
    "#  R is a 1682x943 matrix, where R(i,j) = 1 if and only if user j gave a rating to movie i\n",
    "R,Y = ex8_movies[\"R\"], ex8_movies[\"Y\"]\n",
    "\n",
    "#  Add our own ratings to the data matrix\n",
    "Y = np.c_[(my_ratings, Y)]\n",
    "R = np.c_[(np.ceil(my_ratings / 5), R)]\n",
    "\n",
    "#  Normalize Ratings\n",
    "Ynorm, Ymean = normalizeRatings(Y, R)\n",
    "\n",
    "#  Useful Values\n",
    "num_users = Y.shape[1]\n",
    "num_movies = Y.shape[0]\n",
    "num_features = 10\n",
    "\n",
    "# Set Initial Parameters (Theta, X)\n",
    "X = np.random.randn(num_movies, num_features)\n",
    "Theta = np.random.randn(num_users, num_features)\n",
    "\n",
    "initial_parameters=np.r_[(X.ravel().reshape(num_movies * num_features, 1),Theta.ravel().reshape(num_users * num_features,1))]\n",
    "xlambda = 10\n",
    "\n",
    "theta = op.minimize(fun=cofiCostFunc, x0=initial_parameters,\n",
    "                     args=(Ynorm, R, num_users, num_movies, num_features, xlambda),\n",
    "                     method='TNC', jac=True, tol=1e-6, options={'maxiter':100, \"disp\":True}).x\n",
    "\n",
    "# Unfold the returned theta back into U and W\n",
    "X = theta[:num_movies * num_features].reshape(num_movies, num_features)\n",
    "Theta = theta[num_movies * num_features:].reshape(num_users, num_features)"
   ]
  },
  {
   "cell_type": "markdown",
   "metadata": {
    "collapsed": false,
    "pycharm": {
     "name": "#%% md\n"
    }
   },
   "outputs": [],
   "source": [
    "### 9. Сделайте рекомендации для себя. Совпали ли они с реальностью?"
   ]
  },
  {
   "cell_type": "code",
   "execution_count": 37,
   "metadata": {},
   "outputs": [
    {
     "name": "stdout",
     "output_type": "stream",
     "text": "\nTop recommendations for you:\n\nPredicting rating 10.5 for movie Saint of Fort Washington, The (1993)\nPredicting rating 10.2 for movie Nelly & Monsieur Arnaud (1995)\nPredicting rating 9.7 for movie Walking and Talking (1996)\nPredicting rating 9.4 for movie Innocents, The (1961)\nPredicting rating 8.9 for movie Line King: Al Hirschfeld, The (1996)\nPredicting rating 8.6 for movie Shaggy Dog, The (1959)\nPredicting rating 8.3 for movie Man of the Year (1995)\nPredicting rating 8.2 for movie Sirens (1994)\nPredicting rating 8.2 for movie Star Kid (1997)\nPredicting rating 8.0 for movie Mina Tannenbaum (1994)\nPredicting rating 7.9 for movie Bitter Moon (1992)\nPredicting rating 7.9 for movie Parent Trap, The (1961)\nPredicting rating 7.9 for movie Fille seule, La (A Single Girl) (1995)\nPredicting rating 7.8 for movie Belle de jour (1967)\nPredicting rating 7.8 for movie Friday (1995)\nPredicting rating 7.5 for movie Bewegte Mann, Der (1994)\nPredicting rating 7.3 for movie Shooter, The (1995)\nPredicting rating 7.2 for movie Paradise Road (1997)\nPredicting rating 7.2 for movie Short Cuts (1993)\nPredicting rating 7.1 for movie Set It Off (1996)\n"
    }
   ],
   "source": [
    "p = np.dot(X,Theta.T)\n",
    "my_predictions = p[:,0].reshape(num_movies,1) + Ymean.reshape(num_movies,1)\n",
    "my_predictions = my_predictions[:, 0]\n",
    "\n",
    "movieList = loadMovieList()\n",
    "\n",
    "my_pred_sort = np.sort(-my_predictions)\n",
    "my_ix = np.argsort(-my_predictions)\n",
    "\n",
    "print('\\nTop recommendations for you:\\n')\n",
    "for i in range(0,20):\n",
    "    j = int(my_ix[i])\n",
    "    print('Predicting rating %.1f for movie %s'%(my_predictions[j], movieList[j]),end=\"\")\n",
    "    "
   ]
  },
  {
   "cell_type": "code",
   "execution_count": 44,
   "metadata": {},
   "outputs": [],
   "source": [
    "#Отчасти эти фильмы похоже на те, что я положительно оценил"
   ]
  },
  {
   "cell_type": "code",
   "execution_count": 42,
   "metadata": {},
   "outputs": [],
   "source": [
    "#10. Также обучите модель с помощью сингулярного разложения матриц. Отличаются ли полученные результаты?\n",
    " "
   ]
  },
  {
   "cell_type": "code",
   "execution_count": 33,
   "metadata": {},
   "outputs": [],
   "source": [
    "# save *.csv file\n",
    "\n",
    "Y_inlined = np.dstack([*np.indices(Y.T.shape), Y.T]).reshape(-1, 3)\n",
    "np.savetxt('C:/Users/Mikita/Desktop/1_Sem/MO/machine-learning-ex9/ex9_movies.csv', Y_inlined[Y_inlined[:,2] != 0], fmt=\"%i %i %i\")\n",
    "\n",
    "# create dataset from *.csv file\n",
    "reader = Reader(line_format='user item rating', sep=\" \")\n",
    "data = Dataset.load_from_file(\"C:/Users/Mikita/Desktop/1_Sem/MO/machine-learning-ex9/ex9_movies.csv\", reader)"
   ]
  },
  {
   "cell_type": "code",
   "execution_count": 34,
   "metadata": {},
   "outputs": [
    {
     "name": "stdout",
     "output_type": "stream",
     "text": "user: 0          item: 27         r_ui = 10.00   est = 3.99   {'was_impossible': False}\nRMSE: 0.2470\nError =  0.2469551832692124\n"
    }
   ],
   "source": [
    "algo = SVD(n_factors=100, n_epochs=100, lr_all=0.1)\n",
    "trainset = data.build_full_trainset()\n",
    "testset = trainset.build_testset()\n",
    "\n",
    "algo.fit(trainset)\n",
    "p = algo.predict(uid=trainset.to_raw_uid(0), iid=trainset.to_raw_iid(0), r_ui=10)\n",
    "predictions = algo.test(testset)\n",
    "\n",
    "print(p)\n",
    "print('Error = ', accuracy.rmse(predictions))"
   ]
  },
  {
   "cell_type": "code",
   "execution_count": 35,
   "metadata": {},
   "outputs": [],
   "source": [
    "my_predictions = np.ndarray(1681)\n",
    "for movie_index in np.arange(0, 1681):\n",
    "    my_predictions[movie_index] = algo.predict(uid=trainset.to_raw_uid(0), iid=trainset.to_raw_iid(movie_index)).est"
   ]
  },
  {
   "cell_type": "code",
   "execution_count": 36,
   "metadata": {},
   "outputs": [
    {
     "name": "stdout",
     "output_type": "stream",
     "text": "\nTop recommendations for you:\n\nPredicting rating 5.0 for movie Raiders of the Lost Ark (1981)\nPredicting rating 5.0 for movie Four Rooms (1995)\nPredicting rating 5.0 for movie Get Shorty (1995)\nPredicting rating 5.0 for movie Twelve Monkeys (1995)\nPredicting rating 5.0 for movie Richard III (1995)\nPredicting rating 4.9 for movie Clockwork Orange, A (1971)\nPredicting rating 4.8 for movie Very Brady Sequel, A (1996)\nPredicting rating 4.7 for movie Casablanca (1942)\nPredicting rating 4.7 for movie Sting, The (1973)\nPredicting rating 4.7 for movie Manhattan (1979)\nPredicting rating 4.7 for movie Independence Day (ID4) (1996)\nPredicting rating 4.7 for movie All About Eve (1950)\nPredicting rating 4.6 for movie Cinema Paradiso (1988)\nPredicting rating 4.6 for movie Desperado (1995)\nPredicting rating 4.6 for movie Taxi Driver (1976)\nPredicting rating 4.6 for movie Sgt. Bilko (1996)\nPredicting rating 4.5 for movie Field of Dreams (1989)\nPredicting rating 4.5 for movie Some Mother's Son (1996)\nPredicting rating 4.5 for movie Delicatessen (1991)\nPredicting rating 4.5 for movie Better Off Dead... (1985)\n"
    }
   ],
   "source": [
    "movieList = loadMovieList()\n",
    "\n",
    "my_pred_sort = np.sort(-my_predictions)\n",
    "my_ix = np.argsort(-my_predictions)\n",
    "\n",
    "print('\\nTop recommendations for you:\\n')\n",
    "for i in range(0,20):\n",
    "    j = int(my_ix[i])\n",
    "    print('Predicting rating %.1f for movie %s'%(my_predictions[j], movieList[j]),end=\"\")\n",
    "    "
   ]
  },
  {
   "cell_type": "code",
   "execution_count": 41,
   "metadata": {},
   "outputs": [],
   "source": [
    "#Данные рекомендации больше подходят под те фильмы, что я смотрю"
   ]
  }
 ],
 "metadata": {
  "kernelspec": {
   "name": "python3",
   "language": "python",
   "display_name": "Python 3"
  },
  "language_info": {
   "codemirror_mode": {
    "name": "ipython",
    "version": 2
   },
   "file_extension": ".py",
   "mimetype": "text/x-python",
   "name": "python",
   "nbconvert_exporter": "python",
   "pygments_lexer": "ipython2",
   "version": "3.7.4"
  },
  "pycharm": {
   "stem_cell": {
    "cell_type": "raw",
    "source": [],
    "metadata": {
     "collapsed": false
    }
   }
  }
 },
 "nbformat": 4,
 "nbformat_minor": 0
}